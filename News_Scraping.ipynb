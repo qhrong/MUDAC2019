{
 "cells": [
  {
   "cell_type": "code",
   "execution_count": null,
   "metadata": {},
   "outputs": [],
   "source": [
    "# Importing the necessary packages\n",
    "import requests\n",
    "from bs4 import BeautifulSoup\n",
    "\n",
    "import numpy as np\n",
    "import pandas as pd\n",
    "from datetime import datetime"
   ]
  },
  {
   "cell_type": "code",
   "execution_count": null,
   "metadata": {},
   "outputs": [],
   "source": [
    "# Scraping top 1 agriculture pulications(\"Progressive Farmer\")\n",
    "\n",
    "# Search keyword: soybean, tariffs\n",
    "url1 = requests.get(\"http://www.agrinews-pubs.com/search/?f=html&q=soybean+tariffs&d1=2017-09-01&d2=2019-10-14&s=start_time&sd=desc&l=100&t=article&nsa=eedition\")\n",
    "url2 = requests.get(\"http://www.agrinews-pubs.com/search/?f=html&q=soybean+tariffs&d1=2017-09-01&d2=2019-10-14&s=start_time&sd=desc&l=100&t=article&nsa=eedition&app%5B0%5D=editorial&o=100\")\n",
    "\n",
    "soup1 = BeautifulSoup(url1.content, 'html.parser')\n",
    "soup2 = BeautifulSoup(url2.content, 'html.parser')"
   ]
  },
  {
   "cell_type": "code",
   "execution_count": null,
   "metadata": {},
   "outputs": [],
   "source": [
    "# Get article link & title\n",
    "content1 = soup1.find_all('h3', class_ = 'tnt-headline')\n",
    "content2 = soup2.find_all('h3', class_ = 'tnt-headline')\n",
    "\n",
    "# Get article date\n",
    "date1 = soup1.find_all('time', class_ = \"tnt-date asset-date text-muted\")\n",
    "date2 = soup2.find_all('time', class_ = \"tnt-date asset-date text-muted\")\n",
    "\n",
    "# Empty lists for links, titles, dates and contents\n",
    "list_links = []\n",
    "list_titles = []\n",
    "list_dates = []\n",
    "list_contents = []\n",
    "\n",
    "for n in np.arange(0, len(content1)):\n",
    "    \n",
    "    # Getting the link of the article\n",
    "    link = 'http://www.agrinews-pubs.com' + content1[n].find('a')['href']\n",
    "    list_links.append(link)\n",
    "    \n",
    "    # Getting the title, delete blanks\n",
    "    title = content1[n].get_text().replace('\\n\\n        \\n\\n        \\n            ', '')\n",
    "    list_titles.append(title)\n",
    "    \n",
    "    # Getting the date\n",
    "    date = date1[n].get_text()\n",
    "    list_dates.append(date)\n",
    "    #datetime.strptime(date1[0].get_text(), '%b %d, %Y')\n",
    "    \n",
    "    # Reading the content (it is divided in paragraphs)\n",
    "    article = requests.get(link)\n",
    "    soup_article = BeautifulSoup(article.content, 'html.parser')\n",
    "    body = soup_article.find_all('p')\n",
    "    \n",
    "    # Unifying the paragraphs, delete unnecessary lines\n",
    "    list_paragraphs = []\n",
    "    for paragraph in body[3:-10]:\n",
    "        paragraphtext = paragraph.get_text()\n",
    "        list_paragraphs.append(paragraphtext)\n",
    "        final_article = \" \".join(list_paragraphs)\n",
    "        \n",
    "    list_contents.append(final_article)\n",
    "    \n",
    "for n in np.arange(0, len(content2)):\n",
    "    \n",
    "    link = 'http://www.agrinews-pubs.com' + content1[n].find('a')['href']\n",
    "    list_links.append(link)\n",
    "    \n",
    "    title = content1[n].get_text().replace('\\n\\n        \\n\\n        \\n            ', '')\n",
    "    list_titles.append(title)\n",
    "    \n",
    "    date = date1[n].get_text()\n",
    "    list_dates.append(date)\n",
    "    \n",
    "    article = requests.get(link)\n",
    "    soup_article = BeautifulSoup(article.content, 'html.parser')\n",
    "    body = soup_article.find_all('p')\n",
    "    \n",
    "    list_paragraphs = []\n",
    "    for paragraph in body[3:-10]:\n",
    "        paragraphtext = paragraph.get_text()\n",
    "        list_paragraphs.append(paragraphtext)\n",
    "        final_article = \" \".join(list_paragraphs)\n",
    "        \n",
    "    list_contents.append(final_article)"
   ]
  },
  {
   "cell_type": "code",
   "execution_count": null,
   "metadata": {},
   "outputs": [],
   "source": [
    "# save article data to file\n",
    "data = {'Title':list_titles,\n",
    "        'PageLink':list_links, \n",
    "        'Article':list_contents, \n",
    "        'Date':list_dates}\n",
    "\n",
    "# oldnews = pd.read_excel('quartz\\\\news.xlsx')\n",
    "news = pd.DataFrame(data = data)\n",
    "cols = ['Title', 'PageLink', 'Article', 'Date']\n",
    "news = news[cols]\n",
    "\n",
    "news.to_csv(\"news.csv\")"
   ]
  }
 ],
 "metadata": {
  "kernelspec": {
   "display_name": "Python 3",
   "language": "python",
   "name": "python3"
  },
  "language_info": {
   "codemirror_mode": {
    "name": "ipython",
    "version": 3
   },
   "file_extension": ".py",
   "mimetype": "text/x-python",
   "name": "python",
   "nbconvert_exporter": "python",
   "pygments_lexer": "ipython3",
   "version": "3.7.1"
  }
 },
 "nbformat": 4,
 "nbformat_minor": 2
}
