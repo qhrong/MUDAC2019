{
 "cells": [
  {
   "cell_type": "code",
   "execution_count": null,
   "metadata": {},
   "outputs": [],
   "source": [
    "class HashUtil:\n",
    "  @classmethod\n",
    "  def hash_to_range(cls, s, upper):\n",
    "    hashval = hash(str(s)) % upper;\n",
    "    if hashval < 0:\n",
    "      hashval = upper + hashval\n",
    "    return hashval\n",
    "    \n",
    "  @classmethod\n",
    "  def hash_to_sign(cls, s):\n",
    "    if hash(str(s)) % 2 == 0:\n",
    "      return -1\n",
    "    else:\n",
    "      return 1\n",
    "def update_feature(key, val):\n",
    "    hashed_text_feature[key] = self.hashed_text_feature.get(key, 0) + val"
   ]
  },
  {
   "cell_type": "code",
   "execution_count": null,
   "metadata": {},
   "outputs": [],
   "source": [
    "tokens = [3, 5, 8, 12]\n",
    "hashed_text_feature = {}\n",
    "for tok in tokens:\n",
    "  update_feature(key=HashUtil.hash_to_range(tok, dim), val=HashUtil.hash_to_sign(tok))"
   ]
  },
  {
   "cell_type": "code",
   "execution_count": null,
   "metadata": {},
   "outputs": [],
   "source": []
  },
  {
   "cell_type": "code",
   "execution_count": null,
   "metadata": {},
   "outputs": [],
   "source": []
  },
  {
   "cell_type": "code",
   "execution_count": null,
   "metadata": {},
   "outputs": [],
   "source": []
  },
  {
   "cell_type": "code",
   "execution_count": null,
   "metadata": {},
   "outputs": [],
   "source": []
  },
  {
   "cell_type": "code",
   "execution_count": null,
   "metadata": {},
   "outputs": [],
   "source": []
  },
  {
   "cell_type": "code",
   "execution_count": null,
   "metadata": {},
   "outputs": [],
   "source": []
  }
 ],
 "metadata": {
  "kernelspec": {
   "display_name": "Python 3",
   "language": "python",
   "name": "python3"
  },
  "language_info": {
   "codemirror_mode": {
    "name": "ipython",
    "version": 2
   },
   "file_extension": ".py",
   "mimetype": "text/x-python",
   "name": "python",
   "nbconvert_exporter": "python",
   "pygments_lexer": "ipython2",
   "version": "2.7.14"
  }
 },
 "nbformat": 4,
 "nbformat_minor": 2
}
